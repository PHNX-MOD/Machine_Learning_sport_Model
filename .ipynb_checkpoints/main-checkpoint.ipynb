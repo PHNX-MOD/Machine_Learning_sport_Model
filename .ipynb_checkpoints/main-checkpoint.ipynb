{
 "cells": [
  {
   "cell_type": "code",
   "execution_count": 79,
   "id": "466b8a58",
   "metadata": {},
   "outputs": [],
   "source": [
    "import sqlite3\n",
    "import pandas as pd\n",
    "import os"
   ]
  },
  {
   "cell_type": "code",
   "execution_count": 105,
   "id": "9d97dc42",
   "metadata": {},
   "outputs": [],
   "source": [
    "db_path = \"mydatabase.db\"\n",
    "connection = sqlite3.connect(db_path)\n",
    "cursor = connection.cursor()\n",
    "path = \"C:\\\\Users\\\\shmul\\\\OneDrive\\\\Documents\\\\Ang\\\\AngstromDataScienceAssessment\\\\\"\n",
    "list_csv = os.listdir(path)\n",
    "for i in list_csv:\n",
    "    df = pd.read_csv(path+i)\n",
    "    stats.to_sql(df, connection, if_exists='append', index = False)"
   ]
  },
  {
   "cell_type": "code",
   "execution_count": 110,
   "id": "9dad88da",
   "metadata": {},
   "outputs": [],
   "source": [
    "#query\n",
    "query = (\"SELECT name FROM sqlite_schema\")\n",
    "cursor.execute(query)\n",
    "result = cursor.fetchall()"
   ]
  },
  {
   "cell_type": "code",
   "execution_count": 111,
   "id": "23b8069f",
   "metadata": {},
   "outputs": [
    {
     "name": "stdout",
     "output_type": "stream",
     "text": [
      "('box_scores',)\n",
      "('fixture_information',)\n",
      "('test_fixtures',)\n",
      "('test_fixtures_actuals',)\n"
     ]
    }
   ],
   "source": [
    "# Print the query result\n",
    "for row in result:\n",
    "    print(row)"
   ]
  },
  {
   "cell_type": "code",
   "execution_count": 113,
   "id": "e0fc1b23",
   "metadata": {},
   "outputs": [],
   "source": [
    "# Close the database connection\n",
    "connection.close()"
   ]
  },
  {
   "cell_type": "code",
   "execution_count": null,
   "id": "96c19ad2",
   "metadata": {},
   "outputs": [],
   "source": []
  }
 ],
 "metadata": {
  "kernelspec": {
   "display_name": "Python 3 (ipykernel)",
   "language": "python",
   "name": "python3"
  },
  "language_info": {
   "codemirror_mode": {
    "name": "ipython",
    "version": 3
   },
   "file_extension": ".py",
   "mimetype": "text/x-python",
   "name": "python",
   "nbconvert_exporter": "python",
   "pygments_lexer": "ipython3",
   "version": "3.9.12"
  }
 },
 "nbformat": 4,
 "nbformat_minor": 5
}
