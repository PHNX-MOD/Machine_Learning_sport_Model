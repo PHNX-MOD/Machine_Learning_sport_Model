{
 "cells": [
  {
   "cell_type": "code",
   "execution_count": 79,
   "id": "466b8a58",
   "metadata": {},
   "outputs": [],
   "source": [
    "import sqlite3\n",
    "import pandas as pd\n",
    "import os"
   ]
  },
  {
   "cell_type": "code",
   "execution_count": 105,
   "id": "9d97dc42",
   "metadata": {},
   "outputs": [],
   "source": [
    "# Connect to the database\n",
    "db_connection = sqlite3.connect('mydatabase.db')\n",
    "query = \"SELECT * FROM box_scores\"\n",
    "df = pd.read_sql_query(query, db_connection)\n",
    "db_connection.close()\n"
   ]
  }
 ],
 "metadata": {
  "kernelspec": {
   "display_name": "Python 3 (ipykernel)",
   "language": "python",
   "name": "python3"
  },
  "language_info": {
   "codemirror_mode": {
    "name": "ipython",
    "version": 3
   },
   "file_extension": ".py",
   "mimetype": "text/x-python",
   "name": "python",
   "nbconvert_exporter": "python",
   "pygments_lexer": "ipython3",
   "version": "3.11.4"
  }
 },
 "nbformat": 4,
 "nbformat_minor": 5
}
